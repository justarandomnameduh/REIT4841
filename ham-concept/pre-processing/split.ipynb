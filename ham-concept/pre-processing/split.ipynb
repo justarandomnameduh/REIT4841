{
 "cells": [
  {
   "cell_type": "code",
   "execution_count": 1,
   "id": "cdbffab5",
   "metadata": {},
   "outputs": [],
   "source": [
    "import json\n",
    "import os\n",
    "from sklearn.metrics import confusion_matrix\n",
    "import seaborn as sns\n",
    "import matplotlib.pyplot as plt\n",
    "import pandas as pd"
   ]
  },
  {
   "cell_type": "code",
   "execution_count": 2,
   "id": "004afc14",
   "metadata": {},
   "outputs": [
    {
     "name": "stdout",
     "output_type": "stream",
     "text": [
      "Successfully loaded 3611 entries from ../ham_concept_dataset/annotation_summary.json\n",
      "\n",
      "First 3 entries:\n",
      "Entry 1: {'isic_id': 'ISIC_0024310', 'image_dir': 'ISIC2018_Task3_Training_Input/ISIC_0024310.jpg', 'annotator_list': ['Datasets/ground_truth_annotations/annotator1/ISIC_0024310.json', 'Datasets/ground_truth_annotations/annotator2/ISIC_0024310.json'], 'participant_list': []}\n",
      "Entry 2: {'isic_id': 'ISIC_0024313', 'image_dir': 'ISIC2018_Task3_Training_Input/ISIC_0024313.jpg', 'annotator_list': ['Datasets/ground_truth_annotations/annotator1/ISIC_0024313.json', 'Datasets/ground_truth_annotations/annotator3/ISIC_0024313.json'], 'participant_list': []}\n",
      "Entry 3: {'isic_id': 'ISIC_0024314', 'image_dir': 'ISIC2018_Task3_Training_Input/ISIC_0024314.jpg', 'annotator_list': ['Datasets/ground_truth_annotations/annotator1/ISIC_0024314.json', 'Datasets/ground_truth_annotations/annotator3/ISIC_0024314.json'], 'participant_list': []}\n"
     ]
    }
   ],
   "source": [
    "ANNOTATION_SUMMARY_PATH = \"../ham_concept_dataset/annotation_summary.json\"\n",
    "\n",
    "data = []\n",
    "if os.path.exists(ANNOTATION_SUMMARY_PATH):\n",
    "    with open(ANNOTATION_SUMMARY_PATH, 'r') as f:\n",
    "        try:\n",
    "            data = json.load(f)\n",
    "            print(f\"Successfully loaded {len(data)} entries from {ANNOTATION_SUMMARY_PATH}\")\n",
    "        except json.JSONDecodeError as e:\n",
    "            print(f\"Error decoding JSON: {e}\")\n",
    "else:\n",
    "    print(f\"Error: Annotation summary file not found at {ANNOTATION_SUMMARY_PATH}\")\n",
    "\n",
    "# Display the first few entries to verify\n",
    "if data:\n",
    "    print(\"\\nFirst 3 entries:\")\n",
    "    for i, entry in enumerate(data[:3]):\n",
    "        print(f\"Entry {i+1}: {entry}\")"
   ]
  },
  {
   "cell_type": "code",
   "execution_count": 3,
   "id": "f1a93052",
   "metadata": {},
   "outputs": [
    {
     "name": "stdout",
     "output_type": "stream",
     "text": [
      "Processed 3611 items for confusion matrix.\n",
      "Number of items with annotator annotations : 3611\n",
      "Number of items with participant annotations : 196\n"
     ]
    }
   ],
   "source": [
    "y_ann = []  # Has annotator annotations\n",
    "y_pas = []  # Has participant annotations\n",
    "\n",
    "if data:\n",
    "    for item in data:\n",
    "        # Check for annotator_list and participant_list existence and type\n",
    "        has_annotator = isinstance(item.get('annotator_list'), list) and len(item['annotator_list']) > 0\n",
    "        has_participant = isinstance(item.get('participant_list'), list) and len(item['participant_list']) > 0\n",
    "        \n",
    "        y_ann.append(has_annotator)\n",
    "        y_pas.append(has_participant)\n",
    "\n",
    "    print(f\"Processed {len(y_ann)} items for confusion matrix.\")\n",
    "    print(f\"Number of items with annotator annotations : {sum(y_ann)}\")\n",
    "    print(f\"Number of items with participant annotations : {sum(y_pas)}\")\n",
    "else:\n",
    "    print(\"No data loaded to prepare labels.\")"
   ]
  },
  {
   "cell_type": "code",
   "execution_count": 4,
   "id": "b45f3dd0",
   "metadata": {},
   "outputs": [
    {
     "name": "stdout",
     "output_type": "stream",
     "text": [
      "Found 196 entries with non-empty participant_list.\n",
      "Successfully saved participant-only data to: /home/nqmtien/THESIS/REIT4841/ham-concept/ham_concept_dataset/participant_only.json\n",
      "\n",
      "First 3 entries in participant_only.json:\n",
      "Entry 1: {'isic_id': 'ISIC_0024319', 'image_dir': 'ISIC2018_Task3_Training_Input/ISIC_0024319.jpg', 'annotator_list': ['Datasets/ground_truth_annotations/annotator1/ISIC_0024319.json', 'Datasets/ground_truth_annotations/annotator7/ISIC_0024319.json'], 'participant_list': ['Datasets/study_annotations/participant12/ISIC_0024319.json', 'Datasets/study_annotations/participant46/ISIC_0024319.json', 'Datasets/study_annotations/participant62/ISIC_0024319.json', 'Datasets/study_annotations/participant65/ISIC_0024319.json', 'Datasets/study_annotations/participant7/ISIC_0024319.json', 'Datasets/study_annotations/participant74/ISIC_0024319.json', 'Datasets/study_annotations/participant86/ISIC_0024319.json']}\n",
      "Entry 2: {'isic_id': 'ISIC_0024428', 'image_dir': 'ISIC2018_Task3_Training_Input/ISIC_0024428.jpg', 'annotator_list': ['Datasets/ground_truth_annotations/annotator1/ISIC_0024428.json', 'Datasets/ground_truth_annotations/annotator10/ISIC_0024428.json'], 'participant_list': ['Datasets/study_annotations/participant12/ISIC_0024428.json', 'Datasets/study_annotations/participant46/ISIC_0024428.json', 'Datasets/study_annotations/participant62/ISIC_0024428.json', 'Datasets/study_annotations/participant65/ISIC_0024428.json', 'Datasets/study_annotations/participant7/ISIC_0024428.json', 'Datasets/study_annotations/participant74/ISIC_0024428.json', 'Datasets/study_annotations/participant86/ISIC_0024428.json']}\n",
      "Entry 3: {'isic_id': 'ISIC_0024458', 'image_dir': 'ISIC2018_Task3_Training_Input/ISIC_0024458.jpg', 'annotator_list': ['Datasets/ground_truth_annotations/annotator1/ISIC_0024458.json', 'Datasets/ground_truth_annotations/annotator3/ISIC_0024458.json'], 'participant_list': ['Datasets/study_annotations/participant100/ISIC_0024458.json', 'Datasets/study_annotations/participant108/ISIC_0024458.json', 'Datasets/study_annotations/participant20/ISIC_0024458.json', 'Datasets/study_annotations/participant29/ISIC_0024458.json', 'Datasets/study_annotations/participant34/ISIC_0024458.json', 'Datasets/study_annotations/participant55/ISIC_0024458.json', 'Datasets/study_annotations/participant57/ISIC_0024458.json', 'Datasets/study_annotations/participant61/ISIC_0024458.json', 'Datasets/study_annotations/participant68/ISIC_0024458.json', 'Datasets/study_annotations/participant75/ISIC_0024458.json']}\n"
     ]
    }
   ],
   "source": [
    "PARTICIPANT_ONLY_JSON_PATH = \"../ham_concept_dataset/participant_only.json\"\n",
    "participant_only_data = []\n",
    "if data:\n",
    "    for item in data:\n",
    "        # Check if 'participant_list' exists, is a list, and is not empty\n",
    "        participant_list = item.get('participant_list')\n",
    "        if isinstance(participant_list, list) and len(participant_list) > 0:\n",
    "            participant_only_data.append(item)\n",
    "    \n",
    "    print(f\"Found {len(participant_only_data)} entries with non-empty participant_list.\")\n",
    "\n",
    "    # Save the filtered data\n",
    "    try:\n",
    "        with open(PARTICIPANT_ONLY_JSON_PATH, 'w') as f:\n",
    "            json.dump(participant_only_data, f, indent=4)\n",
    "        print(f\"Successfully saved participant-only data to: {os.path.abspath(PARTICIPANT_ONLY_JSON_PATH)}\")\n",
    "            \n",
    "    except Exception as e:\n",
    "        print(f\"An unexpected error occurred: {e}\")\n",
    "        \n",
    "else:\n",
    "    print(\"No data loaded from annotation_summary.json to filter.\")"
   ]
  }
 ],
 "metadata": {
  "kernelspec": {
   "display_name": "REIT4841",
   "language": "python",
   "name": "python3"
  },
  "language_info": {
   "codemirror_mode": {
    "name": "ipython",
    "version": 3
   },
   "file_extension": ".py",
   "mimetype": "text/x-python",
   "name": "python",
   "nbconvert_exporter": "python",
   "pygments_lexer": "ipython3",
   "version": "3.13.3"
  }
 },
 "nbformat": 4,
 "nbformat_minor": 5
}
