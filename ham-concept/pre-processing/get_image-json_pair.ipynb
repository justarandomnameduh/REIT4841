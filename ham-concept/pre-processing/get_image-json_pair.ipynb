{
 "cells": [
  {
   "cell_type": "code",
   "execution_count": 1,
   "id": "a87f83ce",
   "metadata": {},
   "outputs": [],
   "source": [
    "import os\n",
    "import json\n",
    "from collections import defaultdict"
   ]
  },
  {
   "cell_type": "code",
   "execution_count": 2,
   "id": "e7b130a9",
   "metadata": {},
   "outputs": [],
   "source": [
    "dataset_base_path = '../ham_concept_dataset/'\n",
    "annotator_annotations_path = os.path.join(dataset_base_path, 'Datasets', 'ground_truth_annotations')\n",
    "participant_annotations_path = os.path.join(dataset_base_path, 'Datasets', 'study_annotations')\n",
    "output_json_path = '../ham_concept_dataset/annotation_summary.json'"
   ]
  },
  {
   "cell_type": "code",
   "execution_count": 3,
   "id": "a16caf89",
   "metadata": {},
   "outputs": [],
   "source": [
    "json_parent_folders = [\n",
    "    os.path.join(dataset_base_path, 'Datasets', 'ground_truth_annotations'),\n",
    "    os.path.join(dataset_base_path, 'Datasets', 'study_annotations')\n",
    "]\n",
    "image_folders_paths = [\n",
    "    os.path.join(dataset_base_path, 'ISIC2018_Task3_Training_Input'),\n",
    "]"
   ]
  },
  {
   "cell_type": "code",
   "execution_count": 4,
   "id": "1ba0f0d1",
   "metadata": {},
   "outputs": [
    {
     "name": "stdout",
     "output_type": "stream",
     "text": [
      "Scanning for JSON files in specified 'Datasets' subfolders:\n",
      "  - Scanning under: /home/nqmtien/THESIS/REIT4841/ham-concept/ham_concept_dataset/Datasets/ground_truth_annotations\n",
      "  - Scanning under: /home/nqmtien/THESIS/REIT4841/ham-concept/ham_concept_dataset/Datasets/study_annotations\n"
     ]
    }
   ],
   "source": [
    "json_basenames = set()\n",
    "print(\"Scanning for JSON files in specified 'Datasets' subfolders:\")\n",
    "for json_root_folder in json_parent_folders:\n",
    "    abs_json_root_folder = os.path.abspath(json_root_folder)\n",
    "    print(f\"  - Scanning under: {abs_json_root_folder}\")\n",
    "    if os.path.exists(json_root_folder) and os.path.isdir(json_root_folder):\n",
    "        for dirpath, dirnames, filenames in os.walk(json_root_folder):\n",
    "            for filename in filenames:\n",
    "                if filename.endswith('.json'):\n",
    "                    basename = os.path.splitext(filename)[0] # e.g., \"ISIC_0033928\"\n",
    "                    json_basenames.add(basename)\n",
    "    else:\n",
    "        print(f\"Warning: JSON parent folder not found at {json_root_folder}\")"
   ]
  },
  {
   "cell_type": "code",
   "execution_count": 5,
   "id": "47460b88",
   "metadata": {},
   "outputs": [
    {
     "name": "stdout",
     "output_type": "stream",
     "text": [
      "Processing 3611 unique ISIC IDs...\n",
      "\n",
      "Successfully created JSON file: /home/nqmtien/THESIS/REIT4841/ham-concept/ham_concept_dataset/annotation_summary.json\n",
      "First entry example: {\n",
      "    \"isic_id\": \"ISIC_0024310\",\n",
      "    \"image_dir\": \"ISIC2018_Task3_Training_Input/ISIC_0024310.jpg\",\n",
      "    \"annotator_list\": [\n",
      "        \"Datasets/ground_truth_annotations/annotator1/ISIC_0024310.json\",\n",
      "        \"Datasets/ground_truth_annotations/annotator2/ISIC_0024310.json\"\n",
      "    ],\n",
      "    \"participant_list\": []\n",
      "}\n",
      "Processing complete.\n"
     ]
    }
   ],
   "source": [
    "isic_annotation_data = []\n",
    "\n",
    "if 'json_basenames' not in globals() or not json_basenames:\n",
    "    print(\"Error: 'json_basenames' is not defined or is empty. Please run the previous cells to populate it.\")\n",
    "elif 'image_folders_paths' not in globals() or not image_folders_paths:\n",
    "    print(\"Error: 'image_folders_paths' is not defined. Please run the cell '80294ab9' to define it.\")\n",
    "else:\n",
    "    print(f\"Processing {len(json_basenames)} unique ISIC IDs...\")\n",
    "\n",
    "    for isic_id in sorted(list(json_basenames)): # Sort for consistent output order\n",
    "        current_isic_data = {\n",
    "            \"isic_id\": isic_id,\n",
    "            \"image_dir\": None,\n",
    "            \"annotator_list\": [],\n",
    "            \"participant_list\": []\n",
    "        }\n",
    "        \n",
    "        expected_json_filename = isic_id + \".json\"\n",
    "        expected_image_filename = isic_id + \".jpg\"\n",
    "\n",
    "        image_found = False\n",
    "        for img_folder in image_folders_paths:\n",
    "            potential_image_path = os.path.join(img_folder, expected_image_filename)\n",
    "            if os.path.exists(potential_image_path):\n",
    "                # Store relative path from the 'dataset_base_path' directory\n",
    "                relative_image_path = os.path.relpath(potential_image_path, dataset_base_path)\n",
    "                current_isic_data[\"image_dir\"] = relative_image_path\n",
    "                image_found = True\n",
    "                break # Found the image, no need to check other folders\n",
    "        \n",
    "        if not image_found:\n",
    "            print(f\"Warning: Image file {expected_image_filename} not found for ISIC ID {isic_id} in provided image folders.\")\n",
    "\n",
    "\n",
    "        # Search in annotator folders\n",
    "        if os.path.exists(annotator_annotations_path) and os.path.isdir(annotator_annotations_path):\n",
    "            for annotator_folder_name in os.listdir(annotator_annotations_path):\n",
    "                annotator_folder_full_path = os.path.join(annotator_annotations_path, annotator_folder_name)\n",
    "                if os.path.isdir(annotator_folder_full_path):\n",
    "                    json_file_path = os.path.join(annotator_folder_full_path, expected_json_filename)\n",
    "                    if os.path.exists(json_file_path):\n",
    "                        # Store relative path from the 'ham_concept_dataset' directory for clarity\n",
    "                        relative_path = os.path.relpath(json_file_path, dataset_base_path)\n",
    "                        current_isic_data[\"annotator_list\"].append(relative_path)\n",
    "        else:\n",
    "            print(f\"Warning: Annotator annotations path not found: {annotator_annotations_path}\")\n",
    "\n",
    "        # Search in participant folders\n",
    "        if os.path.exists(participant_annotations_path) and os.path.isdir(participant_annotations_path):\n",
    "            for participant_folder_name in os.listdir(participant_annotations_path):\n",
    "                participant_folder_full_path = os.path.join(participant_annotations_path, participant_folder_name)\n",
    "                if os.path.isdir(participant_folder_full_path):\n",
    "                    json_file_path = os.path.join(participant_folder_full_path, expected_json_filename)\n",
    "                    if os.path.exists(json_file_path):\n",
    "                        relative_path = os.path.relpath(json_file_path, dataset_base_path)\n",
    "                        current_isic_data[\"participant_list\"].append(relative_path)\n",
    "        else:\n",
    "            print(f\"Warning: Participant annotations path not found: {participant_annotations_path}\")\n",
    "            \n",
    "        # Sort lists for consistent output\n",
    "        current_isic_data[\"annotator_list\"].sort()\n",
    "        current_isic_data[\"participant_list\"].sort()\n",
    "        \n",
    "        isic_annotation_data.append(current_isic_data)\n",
    "\n",
    "    # Write the data to a JSON file\n",
    "    try:\n",
    "        with open(output_json_path, 'w') as f:\n",
    "            json.dump(isic_annotation_data, f, indent=4)\n",
    "        print(f\"\\nSuccessfully created JSON file: {os.path.abspath(output_json_path)}\")\n",
    "        if isic_annotation_data:\n",
    "             print(f\"First entry example: {json.dumps(isic_annotation_data[0], indent=4)}\")\n",
    "    except IOError as e:\n",
    "        print(f\"Error writing JSON file: {e}\")\n",
    "    except Exception as e:\n",
    "        print(f\"An unexpected error occurred: {e}\")\n",
    "\n",
    "if not isic_annotation_data and 'json_basenames' in globals() and json_basenames:\n",
    "    print(\"No annotation data was compiled, though ISIC IDs were found. Check paths and file structures.\")\n",
    "elif not 'json_basenames' in globals() or not json_basenames:\n",
    "    pass # Error already printed\n",
    "else:\n",
    "    print(\"Processing complete.\")"
   ]
  }
 ],
 "metadata": {
  "kernelspec": {
   "display_name": "REIT4841",
   "language": "python",
   "name": "python3"
  },
  "language_info": {
   "codemirror_mode": {
    "name": "ipython",
    "version": 3
   },
   "file_extension": ".py",
   "mimetype": "text/x-python",
   "name": "python",
   "nbconvert_exporter": "python",
   "pygments_lexer": "ipython3",
   "version": "3.13.3"
  }
 },
 "nbformat": 4,
 "nbformat_minor": 5
}
