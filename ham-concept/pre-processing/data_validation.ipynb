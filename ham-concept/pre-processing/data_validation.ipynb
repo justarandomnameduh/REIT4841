{
 "cells": [
  {
   "cell_type": "markdown",
   "id": "87370973",
   "metadata": {},
   "source": [
    "#### 1. Check whether all the json file in the HAM10000 annotated datasets (in the Datasets folder) have all the corresponding images in the ISIC2018 datasets"
   ]
  },
  {
   "cell_type": "code",
   "execution_count": 3,
   "id": "77788fb2",
   "metadata": {},
   "outputs": [],
   "source": [
    "import os\n",
    "import numpy as np\n",
    "import matplotlib.pyplot as plt\n",
    "import pandas as pd\n",
    "import seaborn as sns\n",
    "from collections import defaultdict\n",
    "\n",
    "%matplotlib inline"
   ]
  },
  {
   "cell_type": "code",
   "execution_count": 4,
   "id": "672b17d2",
   "metadata": {},
   "outputs": [],
   "source": [
    "# Define base paths\n",
    "dataset_base_path = '../ham_concept_dataset/'\n",
    "# Define the specific parent folders within 'Datasets' that contain JSON files\n",
    "json_parent_folders = [\n",
    "    os.path.join(dataset_base_path, 'Datasets', 'ground_truth_annotations'),\n",
    "    os.path.join(dataset_base_path, 'Datasets', 'study_annotations')\n",
    "]\n",
    "image_folders_paths = [\n",
    "    os.path.join(dataset_base_path, 'ISIC2018_Task3_Training_Input'),\n",
    "]"
   ]
  },
  {
   "cell_type": "code",
   "execution_count": 5,
   "id": "55e2ac6a",
   "metadata": {},
   "outputs": [
    {
     "data": {
      "text/plain": [
       "['../ham_concept_dataset/ISIC2018_Task3_Training_Input']"
      ]
     },
     "execution_count": 5,
     "metadata": {},
     "output_type": "execute_result"
    }
   ],
   "source": [
    "image_folders_paths"
   ]
  },
  {
   "cell_type": "code",
   "execution_count": 6,
   "id": "3c99ed96",
   "metadata": {},
   "outputs": [
    {
     "name": "stdout",
     "output_type": "stream",
     "text": [
      "Scanning for JSON files in specified 'Datasets' subfolders:\n",
      "  - Scanning under: /home/nqmtien/THESIS/REIT4841/ham-concept/ham_concept_dataset/Datasets/ground_truth_annotations\n",
      "  - Scanning under: /home/nqmtien/THESIS/REIT4841/ham-concept/ham_concept_dataset/Datasets/study_annotations\n",
      "Found 3611 unique JSON basenames from all specified locations.\n",
      "\n"
     ]
    }
   ],
   "source": [
    "json_basenames = set()\n",
    "print(\"Scanning for JSON files in specified 'Datasets' subfolders:\")\n",
    "for json_root_folder in json_parent_folders:\n",
    "    abs_json_root_folder = os.path.abspath(json_root_folder)\n",
    "    print(f\"  - Scanning under: {abs_json_root_folder}\")\n",
    "    if os.path.exists(json_root_folder) and os.path.isdir(json_root_folder):\n",
    "        for dirpath, dirnames, filenames in os.walk(json_root_folder):\n",
    "            for filename in filenames:\n",
    "                if filename.endswith('.json'):\n",
    "                    basename = os.path.splitext(filename)[0] # e.g., \"ISIC_0033928\"\n",
    "                    json_basenames.add(basename)\n",
    "    else:\n",
    "        print(f\"Warning: JSON parent folder not found at {json_root_folder}\")\n",
    "\n",
    "print(f\"Found {len(json_basenames)} unique JSON basenames from all specified locations.\\n\")\n"
   ]
  },
  {
   "cell_type": "code",
   "execution_count": 7,
   "id": "e398a8b5",
   "metadata": {},
   "outputs": [
    {
     "name": "stdout",
     "output_type": "stream",
     "text": [
      "Scanning for JPG files in ISIC2018 Task3 Input folders:\n",
      "  - Scanning: /home/nqmtien/THESIS/REIT4841/ham-concept/ham_concept_dataset/ISIC2018_Task3_Training_Input\n",
      "Found 10015 unique JPG basenames in total.\n",
      "\n"
     ]
    }
   ],
   "source": [
    "image_basenames = set()\n",
    "print(\"Scanning for JPG files in ISIC2018 Task3 Input folders:\")\n",
    "for folder_path in image_folders_paths:\n",
    "    abs_folder_path = os.path.abspath(folder_path)\n",
    "    print(f\"  - Scanning: {abs_folder_path}\")\n",
    "    if os.path.exists(folder_path) and os.path.isdir(folder_path):\n",
    "        for filename in os.listdir(folder_path):\n",
    "            if filename.endswith('.jpg'):\n",
    "                basename = os.path.splitext(filename)[0] # e.g., \"ISIC_0033928\"\n",
    "                image_basenames.add(basename)\n",
    "    else:\n",
    "        print(f\"Warning: Image folder not found at {folder_path}\")\n",
    "print(f\"Found {len(image_basenames)} unique JPG basenames in total.\\n\")\n"
   ]
  },
  {
   "cell_type": "code",
   "execution_count": 8,
   "id": "90c5efa4",
   "metadata": {},
   "outputs": [],
   "source": [
    "missing_images_for_json = []\n",
    "if not json_basenames:\n",
    "    print(\"No JSON files found to check.\")\n",
    "else:\n",
    "    for json_basename in json_basenames:\n",
    "        if json_basename not in image_basenames:\n",
    "            missing_images_for_json.append(json_basename + \".json\") # Report with .json extension\n"
   ]
  },
  {
   "cell_type": "code",
   "execution_count": 9,
   "id": "240252e8",
   "metadata": {},
   "outputs": [
    {
     "name": "stdout",
     "output_type": "stream",
     "text": [
      "All unique JSON files found in the specified 'Datasets' subfolders have a corresponding JPG image in the ISIC2018_Task3_Input folders.\n",
      "\n",
      "Verification complete.\n"
     ]
    }
   ],
   "source": [
    "if not json_basenames:\n",
    "    # Message already printed above\n",
    "    pass\n",
    "elif not missing_images_for_json:\n",
    "    print(\"All unique JSON files found in the specified 'Datasets' subfolders have a corresponding JPG image in the ISIC2018_Task3_Input folders.\")\n",
    "else:\n",
    "    print(f\"Found {len(missing_images_for_json)} unique JSON file basename(s) from the 'Datasets' subfolders without a corresponding JPG image in the ISIC2018_Task3_Input folders:\")\n",
    "    # To avoid ambiguity if a basename exists in multiple JSON locations but only one is missing an image,\n",
    "    # we report the basenames. The script already ensures unique basenames are checked.\n",
    "    for json_file_basename_with_ext in missing_images_for_json:\n",
    "        print(f\"  - {json_file_basename_with_ext} (basename: {os.path.splitext(json_file_basename_with_ext)[0]})\")\n",
    "\n",
    "print(\"\\nVerification complete.\")"
   ]
  },
  {
   "cell_type": "markdown",
   "id": "c85f78c2",
   "metadata": {},
   "source": [
    "#### 2. Check mapping metadata_ground_truth and ISIC_Task3_Training"
   ]
  },
  {
   "cell_type": "code",
   "execution_count": 10,
   "id": "dcb0bf37",
   "metadata": {},
   "outputs": [],
   "source": [
    "metadata_file_path = \"../ham_concept_dataset/Datasets/metadata/metadata_ground_truth.csv\"\n",
    "groundtruth_file_path = \"../ham_concept_dataset/ISIC2018_Task3_Training_GroundTruth/ISIC2018_Task3_Training_GroundTruth.csv\""
   ]
  },
  {
   "cell_type": "code",
   "execution_count": 11,
   "id": "dd91c383",
   "metadata": {},
   "outputs": [],
   "source": [
    "metadata_id_column = 'image_id'\n",
    "groundtruth_id_column = 'image'"
   ]
  },
  {
   "cell_type": "code",
   "execution_count": 14,
   "id": "c892814f",
   "metadata": {},
   "outputs": [
    {
     "name": "stdout",
     "output_type": "stream",
     "text": [
      "Successfully loaded '../ham_concept_dataset/Datasets/metadata/metadata_ground_truth.csv'. Shape: (6498, 29)\n",
      "Found 3611 unique image IDs in '../ham_concept_dataset/Datasets/metadata/metadata_ground_truth.csv' (after potential .jpg removal).\n",
      "Successfully loaded '../ham_concept_dataset/ISIC2018_Task3_Training_GroundTruth/ISIC2018_Task3_Training_GroundTruth.csv'. Shape: (10015, 8)\n",
      "Found 10015 unique image IDs in '../ham_concept_dataset/ISIC2018_Task3_Training_GroundTruth/ISIC2018_Task3_Training_GroundTruth.csv'.\n",
      "\n",
      "SUCCESS: All 3611 image_ids from '../ham_concept_dataset/Datasets/metadata/metadata_ground_truth.csv' (column 'image_id') have a corresponding entry in '../ham_concept_dataset/ISIC2018_Task3_Training_GroundTruth/ISIC2018_Task3_Training_GroundTruth.csv' (column 'image').\n"
     ]
    }
   ],
   "source": [
    "try:\n",
    "    if not os.path.exists(metadata_file_path):\n",
    "        print(f\"Error: Metadata file not found at '{metadata_file_path}'\")\n",
    "    metadata_df = pd.read_csv(metadata_file_path)\n",
    "    print(f\"Successfully loaded '{metadata_file_path}'. Shape: {metadata_df.shape}\")\n",
    "\n",
    "    if metadata_id_column not in metadata_df.columns:\n",
    "        print(f\"Error: Column '{metadata_id_column}' not found in '{metadata_file_path}'.\")\n",
    "        print(f\"Available columns: {metadata_df.columns.tolist()}\")\n",
    "    \n",
    "    metadata_image_ids = set(metadata_df[metadata_id_column].astype(str).str.replace('.jpg', '', regex=False))\n",
    "    print(f\"Found {len(metadata_image_ids)} unique image IDs in '{metadata_file_path}' (after potential .jpg removal).\")\n",
    "    if not metadata_image_ids:\n",
    "        print(f\"Warning: No image IDs found in '{metadata_id_column}' of '{metadata_file_path}'.\")\n",
    "\n",
    "    if not os.path.exists(groundtruth_file_path):\n",
    "        print(f\"Error: Groundtruth file not found at '{groundtruth_file_path}'\")\n",
    "    groundtruth_df = pd.read_csv(groundtruth_file_path)\n",
    "    print(f\"Successfully loaded '{groundtruth_file_path}'. Shape: {groundtruth_df.shape}\")\n",
    "\n",
    "    if groundtruth_id_column not in groundtruth_df.columns:\n",
    "        print(f\"Error: Column '{groundtruth_id_column}' not found in '{groundtruth_file_path}'.\")\n",
    "        print(f\"Available columns: {groundtruth_df.columns.tolist()}\")\n",
    "        print(f\"Please ensure '{groundtruth_id_column}' is the correct image identifier column name for this file.\")\n",
    "\n",
    "    groundtruth_image_ids = set(groundtruth_df[groundtruth_id_column].astype(str))\n",
    "    print(f\"Found {len(groundtruth_image_ids)} unique image IDs in '{groundtruth_file_path}'.\")\n",
    "    if not groundtruth_image_ids:\n",
    "        print(f\"Warning: No image IDs found in '{groundtruth_id_column}' of '{groundtruth_file_path}'.\")\n",
    "\n",
    "    missing_ids = metadata_image_ids.difference(groundtruth_image_ids)\n",
    "\n",
    "    if not missing_ids:\n",
    "        print(f\"\\nSUCCESS: All {len(metadata_image_ids)} image_ids from '{metadata_file_path}' (column '{metadata_id_column}') \"\n",
    "                f\"have a corresponding entry in '{groundtruth_file_path}' (column '{groundtruth_id_column}').\")\n",
    "    else:\n",
    "        print(f\"\\nWARNING: {len(missing_ids)} image_id(s) from '{metadata_file_path}' (column '{metadata_id_column}') \"\n",
    "                f\"are MISSING in '{groundtruth_file_path}' (column '{groundtruth_id_column}'):\")\n",
    "        # Print a few examples if the list is long\n",
    "        for i, img_id in enumerate(sorted(list(missing_ids))):\n",
    "            if i < 20: # Print up to 20 missing IDs\n",
    "                print(f\"  - {img_id}\")\n",
    "            elif i == 20:\n",
    "                print(f\"  ... and {len(missing_ids) - 20} more.\")\n",
    "                break\n",
    "        print(\"\\nPlease verify these IDs.\")\n",
    "        \n",
    "except Exception as e:\n",
    "    print(f\"An unexpected error occurred: {e}\")"
   ]
  }
 ],
 "metadata": {
  "kernelspec": {
   "display_name": "REIT4841",
   "language": "python",
   "name": "python3"
  },
  "language_info": {
   "codemirror_mode": {
    "name": "ipython",
    "version": 3
   },
   "file_extension": ".py",
   "mimetype": "text/x-python",
   "name": "python",
   "nbconvert_exporter": "python",
   "pygments_lexer": "ipython3",
   "version": "3.13.3"
  }
 },
 "nbformat": 4,
 "nbformat_minor": 5
}
