{
 "cells": [
  {
   "cell_type": "code",
   "execution_count": 9,
   "id": "8ea89ec2",
   "metadata": {},
   "outputs": [],
   "source": [
    "import json\n",
    "import pandas as pd\n",
    "from sklearn.metrics import (\n",
    "    accuracy_score,\n",
    "    precision_score,\n",
    "    recall_score,\n",
    "    f1_score,\n",
    "    confusion_matrix,\n",
    "    roc_auc_score\n",
    ")\n",
    "import matplotlib.pyplot as plt\n",
    "import seaborn as sns\n",
    "import numpy as np"
   ]
  },
  {
   "cell_type": "code",
   "execution_count": 10,
   "id": "49d0e833",
   "metadata": {},
   "outputs": [],
   "source": [
    "val_csv_path = '../ham_concept_dataset/Datasets/metadata/val.csv'\n",
    "predictions_json_path = '../cbm/predictions_mel_nv.json'\n",
    "POSITIVE_CLASS_LABEL = 1\n",
    "NEGATIVE_CLASS_LABEL = 0\n",
    "POSITIVE_CLASS_NAME = \"Melanoma\"\n",
    "NEGATIVE_CLASS_NAME = \"Nevus\""
   ]
  },
  {
   "cell_type": "code",
   "execution_count": 11,
   "id": "98f270bb",
   "metadata": {},
   "outputs": [
    {
     "name": "stdout",
     "output_type": "stream",
     "text": [
      "Loaded 614 ground truth entries from ../ham_concept_dataset/Datasets/metadata/val.csv\n"
     ]
    }
   ],
   "source": [
    "gt_df = pd.read_csv(val_csv_path)\n",
    "\n",
    "gt_df.dropna(subset=['image_id', 'benign_malignant'], inplace=True)\n",
    "gt_df['benign_malignant'] = gt_df['benign_malignant'].astype(int)\n",
    "\n",
    "ground_truth_map = pd.Series(gt_df.benign_malignant.values, index=gt_df.image_id).to_dict()\n",
    "print(f\"Loaded {len(ground_truth_map)} ground truth entries from {val_csv_path}\")"
   ]
  },
  {
   "cell_type": "code",
   "execution_count": 17,
   "id": "fe8571d9",
   "metadata": {},
   "outputs": [
    {
     "name": "stdout",
     "output_type": "stream",
     "text": [
      "Loaded 650 predictions from ../cbm/predictions_mel_nv.json\n",
      "Successfully aligned 650 predictions with ground truth.\n"
     ]
    }
   ],
   "source": [
    "y_true = []\n",
    "y_pred = []\n",
    "processed_image_ids = []\n",
    "skipped_predictions_missing_gt = 0\n",
    "skipped_predictions_unknown_label = 0\n",
    "\n",
    "prediction_to_numerical = {\n",
    "    \"MEL\": POSITIVE_CLASS_LABEL,  # Melanoma\n",
    "    \"NV\": NEGATIVE_CLASS_LABEL    # Nevus\n",
    "}\n",
    "\n",
    "try:\n",
    "    with open(predictions_json_path, 'r') as f:\n",
    "        predictions_data = json.load(f)\n",
    "    print(f\"Loaded {len(predictions_data)} predictions from {predictions_json_path}\")\n",
    "\n",
    "    if not ground_truth_map:\n",
    "        print(\"Warning: Ground truth map is empty. Cannot align predictions.\")\n",
    "    else:\n",
    "        for item in predictions_data:\n",
    "            image_id = item.get('image_id')\n",
    "            prediction = item.get('prediction')\n",
    "            true_label = ground_truth_map[image_id]\n",
    "            predicted_label_numerical = prediction_to_numerical.get(prediction.upper())\n",
    "                \n",
    "\n",
    "            if predicted_label_numerical is not None:\n",
    "                y_true.append(true_label)\n",
    "                y_pred.append(predicted_label_numerical)\n",
    "                processed_image_ids.append(image_id)\n",
    "            else:\n",
    "                print(f\"Warning: Unknown prediction string '{prediction}' for image_id {image_id}. Skipping.\")\n",
    "                skipped_predictions_unknown_label += 1\n",
    "        \n",
    "        if skipped_predictions_missing_gt > 0:\n",
    "            print(f\"Warning: Skipped {skipped_predictions_missing_gt} predictions for image_ids not found in the ground truth map.\")\n",
    "        if skipped_predictions_unknown_label > 0:\n",
    "             print(f\"Warning: Skipped {skipped_predictions_unknown_label} predictions due to unknown prediction labels.\")\n",
    "        print(f\"Successfully aligned {len(y_true)} predictions with ground truth.\")\n",
    "\n",
    "except Exception as e:\n",
    "    print(f\"Error: An unexpected error occurred while processing predictions: {e}\")"
   ]
  },
  {
   "cell_type": "code",
   "execution_count": 18,
   "id": "329ad7a9",
   "metadata": {},
   "outputs": [
    {
     "name": "stdout",
     "output_type": "stream",
     "text": [
      "\n",
      "Evaluating 650 samples.\n",
      "\n",
      "--- Evaluation Metrics ---\n",
      "Accuracy: 0.5354\n",
      "\n",
      "Metrics for 'Melanoma' (Class 1):\n",
      "  Precision: 0.3835 (TP / (TP + FP))\n",
      "  Recall (Sensitivity): 0.4515 (TP / (TP + FN))\n",
      "  F1-score: 0.4147\n",
      "  Specificity: 0.5835 (TN / (TN + FP) - True Negative Rate for 'Nevus')\n",
      "ROC AUC: 0.5175\n",
      "\n",
      "--- Confusion Matrix ---\n",
      "Rows: True Class, Columns: Predicted Class\n",
      "Labels: 0=Nevus, 1=Melanoma\n",
      "\n",
      "                 Predicted Nevus  Predicted Melanoma\n",
      "True Nevus           241              172             (FP)\n",
      "True Melanoma        130             (FN)  107             (TP)\n",
      "\n",
      "Where:\n",
      "  TN (True Nevus): 241\n",
      "  FP (False Melanoma): 172\n",
      "  FN (False Nevus): 130\n",
      "  TP (True Melanoma): 107\n"
     ]
    },
    {
     "data": {
      "image/png": "[encoded data removed]",
      "text/plain": [
       "<Figure size 800x600 with 2 Axes>"
      ]
     },
     "metadata": {},
     "output_type": "display_data"
    }
   ],
   "source": [
    "if not y_true or not y_pred:\n",
    "    print(\"\\nNo valid aligned predictions to evaluate.\")\n",
    "else:\n",
    "    print(f\"\\nEvaluating {len(y_true)} samples.\")\n",
    "    \n",
    "    accuracy = accuracy_score(y_true, y_pred)\n",
    "    \n",
    "    # Metrics for the positive class (Melanoma)\n",
    "    precision_mel = precision_score(y_true, y_pred, pos_label=POSITIVE_CLASS_LABEL, zero_division=0)\n",
    "    recall_mel = recall_score(y_true, y_pred, pos_label=POSITIVE_CLASS_LABEL, zero_division=0) # Also known as Sensitivity\n",
    "    f1_mel = f1_score(y_true, y_pred, pos_label=POSITIVE_CLASS_LABEL, zero_division=0)\n",
    "    \n",
    "    # Confusion Matrix\n",
    "    # Ensure labels are [Negative, Positive] for standard TN, FP, FN, TP interpretation\n",
    "    cm = confusion_matrix(y_true, y_pred, labels=[NEGATIVE_CLASS_LABEL, POSITIVE_CLASS_LABEL])\n",
    "    \n",
    "    if cm.shape == (2, 2):\n",
    "        tn, fp, fn, tp = cm.ravel()\n",
    "    else:\n",
    "        # Handle cases where confusion matrix might not be 2x2\n",
    "        # (e.g., if y_true or y_pred only contains one class after filtering)\n",
    "        # This setup with labels=[0,1] should generally produce a 2x2 matrix.\n",
    "        # If not, it means something is very unusual with the data (e.g. only one class present in y_true AND y_pred)\n",
    "        print(\"Warning: Confusion matrix is not 2x2. Metrics might be affected.\")\n",
    "        # Defaulting to prevent errors, but this indicates an issue.\n",
    "        tn, fp, fn, tp = 0,0,0,0\n",
    "        if NEGATIVE_CLASS_LABEL in np.unique(y_true) and POSITIVE_CLASS_LABEL not in np.unique(y_true): # Only negatives in true\n",
    "            tn = cm[0,0] if cm.shape[0]>0 and cm.shape[1]>0 else 0\n",
    "            fp = cm[0,1] if cm.shape[0]>0 and cm.shape[1]>1 else 0\n",
    "        elif POSITIVE_CLASS_LABEL in np.unique(y_true) and NEGATIVE_CLASS_LABEL not in np.unique(y_true): # Only positives in true\n",
    "            fn = cm[1,0] if cm.shape[0]>1 and cm.shape[1]>0 else 0\n",
    "            tp = cm[1,1] if cm.shape[0]>1 and cm.shape[1]>1 else 0\n",
    "        # This part is tricky if cm is not 2x2, but sklearn's `labels` param helps.\n",
    "        # For simplicity, we'll rely on the `labels` parameter to give a 2x2 cm.\n",
    "        # If it's not 2x2, it means y_true or y_pred doesn't contain both labels.\n",
    "        # Let's re-assign based on the cm structure given labels=[0,1]\n",
    "        tn = cm[0, 0]\n",
    "        fp = cm[0, 1]\n",
    "        fn = cm[1, 0]\n",
    "        tp = cm[1, 1]\n",
    "\n",
    "\n",
    "    # Specificity: TN / (TN + FP) - Correctly identifying Nevus\n",
    "    specificity_mel = tn / (tn + fp) if (tn + fp) > 0 else 0.0\n",
    "    \n",
    "    # ROC AUC Score\n",
    "    # roc_auc_score can take binary predictions.\n",
    "    # It might raise a ValueError if y_true contains only one class.\n",
    "    roc_auc = \"N/A\"\n",
    "    if len(np.unique(y_true)) > 1: # Check if more than one class in y_true\n",
    "        try:\n",
    "            roc_auc = roc_auc_score(y_true, y_pred)\n",
    "        except ValueError as e:\n",
    "            print(f\"Could not calculate ROC AUC: {e}\")\n",
    "    else:\n",
    "        print(\"ROC AUC not calculated because y_true contains only one class.\")\n",
    "\n",
    "    print(\"\\n--- Evaluation Metrics ---\")\n",
    "    print(f\"Accuracy: {accuracy:.4f}\")\n",
    "    print(f\"\\nMetrics for '{POSITIVE_CLASS_NAME}' (Class {POSITIVE_CLASS_LABEL}):\")\n",
    "    print(f\"  Precision: {precision_mel:.4f} (TP / (TP + FP))\")\n",
    "    print(f\"  Recall (Sensitivity): {recall_mel:.4f} (TP / (TP + FN))\")\n",
    "    print(f\"  F1-score: {f1_mel:.4f}\")\n",
    "    print(f\"  Specificity: {specificity_mel:.4f} (TN / (TN + FP) - True Negative Rate for '{NEGATIVE_CLASS_NAME}')\")\n",
    "    \n",
    "    if isinstance(roc_auc, float):\n",
    "        print(f\"ROC AUC: {roc_auc:.4f}\")\n",
    "    else:\n",
    "        print(f\"ROC AUC: {roc_auc}\")\n",
    "\n",
    "    print(\"\\n--- Confusion Matrix ---\")\n",
    "    print(f\"Rows: True Class, Columns: Predicted Class\")\n",
    "    print(f\"Labels: 0={NEGATIVE_CLASS_NAME}, 1={POSITIVE_CLASS_NAME}\\n\")\n",
    "    print(f\"                 Predicted {NEGATIVE_CLASS_NAME}  Predicted {POSITIVE_CLASS_NAME}\")\n",
    "    print(f\"True {NEGATIVE_CLASS_NAME:<12}    {cm[0,0]:<15}  {cm[0,1]:<15} (FP)\")\n",
    "    print(f\"True {POSITIVE_CLASS_NAME:<12}    {cm[1,0]:<15} (FN)  {cm[1,1]:<15} (TP)\")\n",
    "    print(f\"\\nWhere:\")\n",
    "    print(f\"  TN (True {NEGATIVE_CLASS_NAME}): {tn}\")\n",
    "    print(f\"  FP (False {POSITIVE_CLASS_NAME}): {fp}\")\n",
    "    print(f\"  FN (False {NEGATIVE_CLASS_NAME}): {fn}\")\n",
    "    print(f\"  TP (True {POSITIVE_CLASS_NAME}): {tp}\")\n",
    "\n",
    "    # Visualize Confusion Matrix\n",
    "    plt.figure(figsize=(8, 6))\n",
    "    sns.heatmap(cm, annot=True, fmt='d', cmap='Blues',\n",
    "                xticklabels=[f'{NEGATIVE_CLASS_NAME} ({NEGATIVE_CLASS_LABEL})', f'{POSITIVE_CLASS_NAME} ({POSITIVE_CLASS_LABEL})'],\n",
    "                yticklabels=[f'{NEGATIVE_CLASS_NAME} ({NEGATIVE_CLASS_LABEL})', f'{POSITIVE_CLASS_NAME} ({POSITIVE_CLASS_LABEL})'])\n",
    "    plt.xlabel('Predicted Label')\n",
    "    plt.ylabel('True Label')\n",
    "    plt.title('Confusion Matrix')\n",
    "    plt.show()"
   ]
  },
  {
   "cell_type": "code",
   "execution_count": 19,
   "id": "b57d6fd5",
   "metadata": {
    "vscode": {
     "languageId": "ruby"
    }
   },
   "outputs": [
    {
     "name": "stdout",
     "output_type": "stream",
     "text": [
      "\n",
      "--- Majority Class Baseline ---\n",
      "Majority class: 'Nevus' (Class 0)\n",
      "Number of samples: 650\n",
      "  Count of 'Melanoma': 237\n",
      "  Count of 'Nevus': 413\n",
      "Accuracy if always predicting the majority class: 0.6354\n"
     ]
    }
   ],
   "source": [
    "if y_true:\n",
    "    # Determine the majority class\n",
    "    count_positive = sum(1 for label in y_true if label == POSITIVE_CLASS_LABEL)\n",
    "    count_negative = len(y_true) - count_positive\n",
    "    \n",
    "    if count_positive > count_negative:\n",
    "        majority_class_label = POSITIVE_CLASS_LABEL\n",
    "        majority_class_name = POSITIVE_CLASS_NAME\n",
    "    elif count_negative > count_positive:\n",
    "        majority_class_label = NEGATIVE_CLASS_LABEL\n",
    "        majority_class_name = NEGATIVE_CLASS_NAME\n",
    "    else:\n",
    "        # Handle tie by choosing one, e.g., the negative class, or print a specific message\n",
    "        majority_class_label = NEGATIVE_CLASS_LABEL \n",
    "        majority_class_name = f\"Either class (tie, chose {NEGATIVE_CLASS_NAME})\"\n",
    "        print(\"Note: Equal number of positive and negative samples in ground truth. Majority class baseline defaults to Negative class.\")\n",
    "\n",
    "    # Create predictions based on the majority class\n",
    "    y_pred_majority = [majority_class_label] * len(y_true)\n",
    "    \n",
    "    # Calculate accuracy for the majority class predictor\n",
    "    accuracy_majority_class = accuracy_score(y_true, y_pred_majority)\n",
    "    \n",
    "    print(f\"\\n--- Majority Class Baseline ---\")\n",
    "    print(f\"Majority class: '{majority_class_name}' (Class {majority_class_label})\")\n",
    "    print(f\"Number of samples: {len(y_true)}\")\n",
    "    print(f\"  Count of '{POSITIVE_CLASS_NAME}': {count_positive}\")\n",
    "    print(f\"  Count of '{NEGATIVE_CLASS_NAME}': {count_negative}\")\n",
    "    print(f\"Accuracy if always predicting the majority class: {accuracy_majority_class:.4f}\")\n",
    "else:\n",
    "    print(\"\\nCannot calculate majority class accuracy because y_true is empty.\")"
   ]
  },
  {
   "cell_type": "code",
   "execution_count": null,
   "id": "a138a071",
   "metadata": {},
   "outputs": [],
   "source": []
  }
 ],
 "metadata": {
  "kernelspec": {
   "display_name": "REIT4841",
   "language": "python",
   "name": "python3"
  },
  "language_info": {
   "codemirror_mode": {
    "name": "ipython",
    "version": 3
   },
   "file_extension": ".py",
   "mimetype": "text/x-python",
   "name": "python",
   "nbconvert_exporter": "python",
   "pygments_lexer": "ipython3",
   "version": "3.13.3"
  }
 },
 "nbformat": 4,
 "nbformat_minor": 5
}
