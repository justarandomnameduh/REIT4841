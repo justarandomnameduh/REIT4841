{
 "cells": [
  {
   "cell_type": "code",
   "execution_count": 3,
   "id": "400b16c1",
   "metadata": {},
   "outputs": [],
   "source": [
    "import pandas as pd\n",
    "import json"
   ]
  },
  {
   "cell_type": "code",
   "execution_count": 4,
   "id": "6baeafe8",
   "metadata": {},
   "outputs": [],
   "source": [
    "RELEVANT_CONCEPTS = [\"ESA\", \"GP\", \"PV\", \"BDG\", \"WLSA\", \"SPC\", \"PRL\", \"PLF\", \"APC\"]\n",
    "csv_file_path = '../ham_concept_dataset/Datasets/metadata/metadata_ground_truth.csv'\n",
    "df_ground_truth = pd.read_csv(csv_file_path)\n",
    "\n",
    "json_file_path = '../cbm/skin_lesion_concept_abbreviations-4b.json'\n",
    "with open(json_file_path, 'r') as f:\n",
    "    json_data_eval = json.load(f)\n",
    "\n",
    "total_comparisons = 0\n",
    "matches = 0\n",
    "mismatches_details = []"
   ]
  },
  {
   "cell_type": "code",
   "execution_count": 5,
   "id": "06ee3e0f",
   "metadata": {},
   "outputs": [],
   "source": [
    "for index, gt_row in df_ground_truth.iterrows():\n",
    "    image_id = gt_row['image_id']\n",
    "\n",
    "    # Get concept values from JSON for this image\n",
    "    eval_concepts_for_image = {}\n",
    "    if image_id in json_data_eval:\n",
    "        json_image_entry = json_data_eval[image_id]\n",
    "        for concept_abbr in RELEVANT_CONCEPTS:\n",
    "            eval_concepts_for_image[concept_abbr] = 1 if concept_abbr in json_image_entry else 0\n",
    "    else:\n",
    "        # If image_id is not in JSON, all its relevant concepts are considered 0 (absent)\n",
    "        for concept_abbr in RELEVANT_CONCEPTS:\n",
    "            eval_concepts_for_image[concept_abbr] = 0\n",
    "\n",
    "    # Compare for each relevant concept\n",
    "    for concept_abbr in RELEVANT_CONCEPTS:\n",
    "        if concept_abbr not in df_ground_truth.columns:\n",
    "            # This case should ideally not happen if the CSV is well-formed\n",
    "            # and contains all relevant concept columns.\n",
    "            # print(f\"Warning: Concept {concept_abbr} not found as a column in CSV for image {image_id}. Skipping.\")\n",
    "            continue\n",
    "\n",
    "        total_comparisons += 1\n",
    "        gt_value = int(gt_row[concept_abbr])\n",
    "        eval_value = eval_concepts_for_image[concept_abbr]\n",
    "\n",
    "        if gt_value == eval_value:\n",
    "            matches += 1\n",
    "        else:\n",
    "            mismatches_details.append({\n",
    "                \"image_id\": image_id,\n",
    "                \"concept\": concept_abbr,\n",
    "                \"ground_truth_csv\": gt_value,\n",
    "                \"evaluation_json\": eval_value\n",
    "            })\n",
    "\n",
    "# Calculate accuracy\n",
    "accuracy = (matches / total_comparisons) * 100 if total_comparisons > 0 else 0\n"
   ]
  },
  {
   "cell_type": "code",
   "execution_count": 7,
   "id": "52ae0937",
   "metadata": {},
   "outputs": [
    {
     "name": "stdout",
     "output_type": "stream",
     "text": [
      "Comparison for concepts: ESA, GP, PV, BDG, WLSA, SPC, PRL, PLF, APC\n",
      "\n",
      "Total image entries in CSV: 6498\n",
      "Total individual concept comparisons made: 58482\n",
      "Number of matches: 49684\n",
      "Number of mismatches: 8798\n",
      "Accuracy: 84.96%\n"
     ]
    }
   ],
   "source": [
    "print(f\"Comparison for concepts: {', '.join(RELEVANT_CONCEPTS)}\\n\")\n",
    "print(f\"Total image entries in CSV: {len(df_ground_truth)}\")\n",
    "print(f\"Total individual concept comparisons made: {total_comparisons}\")\n",
    "print(f\"Number of matches: {matches}\")\n",
    "print(f\"Number of mismatches: {len(mismatches_details)}\")\n",
    "print(f\"Accuracy: {accuracy:.2f}%\")"
   ]
  },
  {
   "cell_type": "code",
   "execution_count": null,
   "id": "c0da4822",
   "metadata": {},
   "outputs": [],
   "source": []
  }
 ],
 "metadata": {
  "kernelspec": {
   "display_name": "REIT4841",
   "language": "python",
   "name": "python3"
  },
  "language_info": {
   "codemirror_mode": {
    "name": "ipython",
    "version": 3
   },
   "file_extension": ".py",
   "mimetype": "text/x-python",
   "name": "python",
   "nbconvert_exporter": "python",
   "pygments_lexer": "ipython3",
   "version": "3.13.3"
  }
 },
 "nbformat": 4,
 "nbformat_minor": 5
}
